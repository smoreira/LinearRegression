{
  "nbformat": 4,
  "nbformat_minor": 0,
  "metadata": {
    "colab": {
      "name": "RLSimples.ipynb",
      "provenance": [],
      "include_colab_link": true
    },
    "kernelspec": {
      "name": "python3",
      "display_name": "Python 3"
    }
  },
  "cells": [
    {
      "cell_type": "markdown",
      "metadata": {
        "id": "view-in-github",
        "colab_type": "text"
      },
      "source": [
        "<a href=\"https://colab.research.google.com/github/smoreira/LinearRegression/blob/master/RLSimples.ipynb\" target=\"_parent\"><img src=\"https://colab.research.google.com/assets/colab-badge.svg\" alt=\"Open In Colab\"/></a>"
      ]
    },
    {
      "cell_type": "code",
      "metadata": {
        "id": "2RoKsnYPtEud",
        "colab_type": "code",
        "colab": {
          "base_uri": "https://localhost:8080/",
          "height": 34
        },
        "outputId": "2241c72b-7701-417a-e495-770aee334813"
      },
      "source": [
        "#!pip install tensorflow --upgrade\n",
        "\n",
        "import tensorflow as tf\n",
        "print(tf.__version__)\n",
        "import numpy as np\n",
        "import matplotlib.pyplot as plt\n"
      ],
      "execution_count": 2,
      "outputs": [
        {
          "output_type": "stream",
          "text": [
            "2.0.0\n"
          ],
          "name": "stdout"
        }
      ]
    },
    {
      "cell_type": "markdown",
      "metadata": {
        "id": "ACeqIIbgutT5",
        "colab_type": "text"
      },
      "source": [
        "Criando valores de X aleatórios"
      ]
    },
    {
      "cell_type": "code",
      "metadata": {
        "id": "qFeZWvkkuYop",
        "colab_type": "code",
        "colab": {}
      },
      "source": [
        "x = np.linspace(0,3,120)\n",
        "y = 2 * x + 0.9 + np.random.randn(*x.shape) * 0.3"
      ],
      "execution_count": 0,
      "outputs": []
    },
    {
      "cell_type": "code",
      "metadata": {
        "id": "nk5kg_VuvgTe",
        "colab_type": "code",
        "colab": {
          "base_uri": "https://localhost:8080/",
          "height": 282
        },
        "outputId": "2e782ae6-a5ea-404f-e1eb-52b673c05a42"
      },
      "source": [
        "plt.scatter(x,y, label = \"input data set\")"
      ],
      "execution_count": 4,
      "outputs": [
        {
          "output_type": "execute_result",
          "data": {
            "text/plain": [
              "<matplotlib.collections.PathCollection at 0x7fc4df801198>"
            ]
          },
          "metadata": {
            "tags": []
          },
          "execution_count": 4
        },
        {
          "output_type": "display_data",
          "data": {
            "image/png": "[encoded data removed]",
            "text/plain": [
              "<Figure size 432x288 with 1 Axes>"
            ]
          },
          "metadata": {
            "tags": []
          }
        }
      ]
    },
    {
      "cell_type": "code",
      "metadata": {
        "id": "Fvw85Ehgv5jt",
        "colab_type": "code",
        "colab": {}
      },
      "source": [
        "class LinearModel:\n",
        "  def __call__(self,x):\n",
        "    return self.Weight * x + self.Bias\n",
        "  \n",
        "  def __init__(self):\n",
        "    self.Weight = tf.Variable(11.0)\n",
        "    self.Bias = tf.Variable(12.0)"
      ],
      "execution_count": 0,
      "outputs": []
    },
    {
      "cell_type": "code",
      "metadata": {
        "id": "h-c-uIquwfXD",
        "colab_type": "code",
        "colab": {}
      },
      "source": [
        "def loss(y, pred):\n",
        "  return tf.reduce_mean(tf.square(y - pred))"
      ],
      "execution_count": 0,
      "outputs": []
    },
    {
      "cell_type": "code",
      "metadata": {
        "id": "eiHhbDK_wzb_",
        "colab_type": "code",
        "colab": {}
      },
      "source": [
        "def train(linear_model, x, y, lr=0.12):\n",
        "  with tf.GradientTape() as t:\n",
        "    current_loss = loss(y, linear_model(x))\n",
        "\n",
        "  lr_weight, lr_bias = t.gradient(current_loss, [linear_model.Weight, linear_model.Bias])\n",
        "  linear_model.Weight.assign_sub(lr * lr_weight)\n",
        "  linear_model.Bias.assign_sub(lr * lr_bias)"
      ],
      "execution_count": 0,
      "outputs": []
    },
    {
      "cell_type": "code",
      "metadata": {
        "id": "kpELJODhyJMT",
        "colab_type": "code",
        "colab": {
          "base_uri": "https://localhost:8080/",
          "height": 1000
        },
        "outputId": "644abdb2-d6a2-4206-c923-eb46a0146778"
      },
      "source": [
        "linear_model = LinearModel()\n",
        "Weight, Bias = [], []\n",
        "\n",
        "epochs = 80\n",
        "\n",
        "for epoch_cont in range(epochs):\n",
        "  Weight.append(linear_model.Weight.numpy())\n",
        "  Bias.append(linear_model.Bias.numpy())\n",
        "  real_loss = loss(y, linear_model(x))\n",
        "  train(linear_model, x, y, lr=0.12)\n",
        "  print(f\"Epoch count {epoch_cont}: Loss Value: { real_loss.numpy()}\")"
      ],
      "execution_count": 13,
      "outputs": [
        {
          "output_type": "stream",
          "text": [
            "Epoch count 0: Loss Value: 665.2864379882812\n",
            "Epoch count 1: Loss Value: 10.464156150817871\n",
            "Epoch count 2: Loss Value: 5.212378025054932\n",
            "Epoch count 3: Loss Value: 4.7005743980407715\n",
            "Epoch count 4: Loss Value: 4.267405033111572\n",
            "Epoch count 5: Loss Value: 3.875048875808716\n",
            "Epoch count 6: Loss Value: 3.519460916519165\n",
            "Epoch count 7: Loss Value: 3.1971933841705322\n",
            "Epoch count 8: Loss Value: 2.9051244258880615\n",
            "Epoch count 9: Loss Value: 2.6404237747192383\n",
            "Epoch count 10: Loss Value: 2.4005279541015625\n",
            "Epoch count 11: Loss Value: 2.183112382888794\n",
            "Epoch count 12: Loss Value: 1.9860694408416748\n",
            "Epoch count 13: Loss Value: 1.8074910640716553\n",
            "Epoch count 14: Loss Value: 1.645646572113037\n",
            "Epoch count 15: Loss Value: 1.4989678859710693\n",
            "Epoch count 16: Loss Value: 1.366033911705017\n",
            "Epoch count 17: Loss Value: 1.2455569505691528\n",
            "Epoch count 18: Loss Value: 1.1363693475723267\n",
            "Epoch count 19: Loss Value: 1.0374133586883545\n",
            "Epoch count 20: Loss Value: 0.9477301836013794\n",
            "Epoch count 21: Loss Value: 0.8664510250091553\n",
            "Epoch count 22: Loss Value: 0.7927883267402649\n",
            "Epoch count 23: Loss Value: 0.7260282039642334\n",
            "Epoch count 24: Loss Value: 0.665523886680603\n",
            "Epoch count 25: Loss Value: 0.6106892228126526\n",
            "Epoch count 26: Loss Value: 0.560992956161499\n",
            "Epoch count 27: Loss Value: 0.5159536004066467\n",
            "Epoch count 28: Loss Value: 0.47513464093208313\n",
            "Epoch count 29: Loss Value: 0.4381408095359802\n",
            "Epoch count 30: Loss Value: 0.4046134650707245\n",
            "Epoch count 31: Loss Value: 0.374227911233902\n",
            "Epoch count 32: Loss Value: 0.3466896712779999\n",
            "Epoch count 33: Loss Value: 0.32173189520835876\n",
            "Epoch count 34: Loss Value: 0.29911288619041443\n",
            "Epoch count 35: Loss Value: 0.278613418340683\n",
            "Epoch count 36: Loss Value: 0.26003482937812805\n",
            "Epoch count 37: Loss Value: 0.24319718778133392\n",
            "Epoch count 38: Loss Value: 0.22793738543987274\n",
            "Epoch count 39: Loss Value: 0.21410751342773438\n",
            "Epoch count 40: Loss Value: 0.20157359540462494\n",
            "Epoch count 41: Loss Value: 0.19021418690681458\n",
            "Epoch count 42: Loss Value: 0.17991924285888672\n",
            "Epoch count 43: Loss Value: 0.17058898508548737\n",
            "Epoch count 44: Loss Value: 0.16213303804397583\n",
            "Epoch count 45: Loss Value: 0.15446944534778595\n",
            "Epoch count 46: Loss Value: 0.14752402901649475\n",
            "Epoch count 47: Loss Value: 0.14122942090034485\n",
            "Epoch count 48: Loss Value: 0.13552464544773102\n",
            "Epoch count 49: Loss Value: 0.13035446405410767\n",
            "Epoch count 50: Loss Value: 0.1256687492132187\n",
            "Epoch count 51: Loss Value: 0.12142213433980942\n",
            "Epoch count 52: Loss Value: 0.11757346987724304\n",
            "Epoch count 53: Loss Value: 0.11408542096614838\n",
            "Epoch count 54: Loss Value: 0.11092422902584076\n",
            "Epoch count 55: Loss Value: 0.10805926471948624\n",
            "Epoch count 56: Loss Value: 0.10546274483203888\n",
            "Epoch count 57: Loss Value: 0.10310956835746765\n",
            "Epoch count 58: Loss Value: 0.10097690671682358\n",
            "Epoch count 59: Loss Value: 0.09904405474662781\n",
            "Epoch count 60: Loss Value: 0.09729235619306564\n",
            "Epoch count 61: Loss Value: 0.09570479393005371\n",
            "Epoch count 62: Loss Value: 0.09426598995923996\n",
            "Epoch count 63: Loss Value: 0.09296201914548874\n",
            "Epoch count 64: Loss Value: 0.09178022295236588\n",
            "Epoch count 65: Loss Value: 0.09070917963981628\n",
            "Epoch count 66: Loss Value: 0.08973849564790726\n",
            "Epoch count 67: Loss Value: 0.08885876089334488\n",
            "Epoch count 68: Loss Value: 0.08806148916482925\n",
            "Epoch count 69: Loss Value: 0.08733892440795898\n",
            "Epoch count 70: Loss Value: 0.08668403327465057\n",
            "Epoch count 71: Loss Value: 0.0860905572772026\n",
            "Epoch count 72: Loss Value: 0.08555266261100769\n",
            "Epoch count 73: Loss Value: 0.08506517112255096\n",
            "Epoch count 74: Loss Value: 0.08462337404489517\n",
            "Epoch count 75: Loss Value: 0.08422298729419708\n",
            "Epoch count 76: Loss Value: 0.08386009186506271\n",
            "Epoch count 77: Loss Value: 0.08353123813867569\n",
            "Epoch count 78: Loss Value: 0.08323316276073456\n",
            "Epoch count 79: Loss Value: 0.08296303451061249\n"
          ],
          "name": "stdout"
        }
      ]
    },
    {
      "cell_type": "code",
      "metadata": {
        "id": "-YDiukO7z8XT",
        "colab_type": "code",
        "colab": {
          "base_uri": "https://localhost:8080/",
          "height": 34
        },
        "outputId": "ce885786-5bb2-47e5-e4e2-3fa5bacaff0b"
      },
      "source": [
        "linear_model.Weight.numpy(), linear_model.Bias.numpy()"
      ],
      "execution_count": 14,
      "outputs": [
        {
          "output_type": "execute_result",
          "data": {
            "text/plain": [
              "(1.9695069, 0.99424905)"
            ]
          },
          "metadata": {
            "tags": []
          },
          "execution_count": 14
        }
      ]
    },
    {
      "cell_type": "code",
      "metadata": {
        "id": "AF9z98x00MnU",
        "colab_type": "code",
        "colab": {}
      },
      "source": [
        "RMSE = loss(y,linear_model(x))"
      ],
      "execution_count": 0,
      "outputs": []
    },
    {
      "cell_type": "code",
      "metadata": {
        "id": "zRe90P6y0UEK",
        "colab_type": "code",
        "colab": {
          "base_uri": "https://localhost:8080/",
          "height": 34
        },
        "outputId": "22c8ab68-1d93-4127-967c-a5837471eafd"
      },
      "source": [
        "RMSE.numpy()"
      ],
      "execution_count": 16,
      "outputs": [
        {
          "output_type": "execute_result",
          "data": {
            "text/plain": [
              "0.08271823"
            ]
          },
          "metadata": {
            "tags": []
          },
          "execution_count": 16
        }
      ]
    }
  ]
}